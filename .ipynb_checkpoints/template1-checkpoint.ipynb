{
 "cells": [
  {
   "cell_type": "code",
   "execution_count": null,
   "id": "fe1e01cd",
   "metadata": {},
   "outputs": [],
   "source": [
    "import numpy as np\n",
    "import matplotlib.pyplot as plt\n",
    "from astropy.io import fits\n",
    "from astropy.table import Table\n",
    "import lightkurve as lk\n",
    "%matplotlib inline"
   ]
  },
  {
   "cell_type": "code",
   "execution_count": null,
   "id": "efa6d084",
   "metadata": {},
   "outputs": [],
   "source": [
    "#accessing the lightcurves\n",
    "file = \"\""
   ]
  },
  {
   "cell_type": "code",
   "execution_count": null,
   "id": "4c4e43bc",
   "metadata": {},
   "outputs": [],
   "source": [
    "#file information\n",
    "fits.info(file)"
   ]
  },
  {
   "cell_type": "code",
   "execution_count": null,
   "id": "cfc77b42",
   "metadata": {},
   "outputs": [],
   "source": [
    "#checking the data columns\n",
    "fits.getdata(file, ext = 2).columns"
   ]
  },
  {
   "cell_type": "code",
   "execution_count": null,
   "id": "a5711dea",
   "metadata": {},
   "outputs": [],
   "source": [
    "#extracting the data for this TESS sector: time, flux, flux error.\n",
    "with fits.open(file, mode='readonly') as stats:\n",
    "    time = stats[2].data['TIME']\n",
    "    pdsap = stats[2].data['PDCSAP_FLUX']\n",
    "    pdsap_err = stats[2].data['PDCSAP_FLUX_ERR']"
   ]
  },
  {
   "cell_type": "code",
   "execution_count": null,
   "id": "7324cd11",
   "metadata": {},
   "outputs": [],
   "source": [
    "#PLOTTING THE LIGHTCURVE!\n",
    "\n",
    "epoch = #input epoch from the TOI Catalogue\n",
    "period = #input period from the TOI Catalogue\n",
    "\n",
    "t1 = epoch #transit 1\n",
    "t2 = epoch + period #transit 2\n",
    "\n",
    "#PLOTTING THE DATA WITH THE TRANSITS MARKED\n",
    "\n",
    "fig, ax = plt.subplots()\n",
    "\n",
    "time = time\n",
    "pdsap = pdsap\n",
    "pdsap_err = pdsap_err\n",
    "\n",
    "ax.plot(time, pdsap, 'ko')\n",
    "#ax.set_xlim(t1 - 1, t1 + 1)\n",
    "ax.axvline(x=t1, color=\"red\")\n",
    "ax.axvline(x=t2, color=\"blue\")"
   ]
  },
  {
   "cell_type": "code",
   "execution_count": null,
   "id": "8dbc878a",
   "metadata": {},
   "outputs": [],
   "source": [
    "#PLOTTING FIRST TRANSIT\n",
    "\n",
    "%matplotlib inline\n",
    "\n",
    "plt.plot(time, pdsap, 'ko')\n",
    "plt.axvline(x=t1, color=\"red\")\n",
    "plt.axvline(x=t2, color=\"blue\")\n",
    "plt.xlim(t1 - 1, t1 + 1)\n",
    "plt.ylim(, ) #set an appropriate limit"
   ]
  },
  {
   "cell_type": "code",
   "execution_count": null,
   "id": "bf279367",
   "metadata": {},
   "outputs": [],
   "source": [
    "#PLOTTING SECOND TRANSIT\n",
    "\n",
    "%matplotlib inline\n",
    "plt.plot(time, pdsap, 'ko')\n",
    "plt.axvline(x=t1, color=\"red\")\n",
    "plt.axvline(x=t2, color=\"blue\")\n",
    "plt.xlim(t2 - 1, t2 + 1)\n",
    "plt.ylim(, ) #set an appropriate limit"
   ]
  },
  {
   "cell_type": "code",
   "execution_count": null,
   "id": "5c038658",
   "metadata": {},
   "outputs": [],
   "source": [
    "#CREATING LIGHTCURVE OBJECT.\n",
    "\n",
    "%matplotlib inline\n",
    "lc = lk.LightCurve(time=time, flux=pdsap, flux_err=pdsap_err)\n",
    "lc.scatter()"
   ]
  },
  {
   "cell_type": "code",
   "execution_count": null,
   "id": "c4583bd5",
   "metadata": {},
   "outputs": [],
   "source": [
    "#BEST NORMALISATION + FLATTENING RESULTS \n",
    "\n",
    "%matplotlib inline\n",
    "lc = lc.normalize().flatten(window_length=10000)\n",
    "lc.scatter()\n",
    "\n",
    "#plt.xlim(1863.5, 1866) #FIRST TRANSIT\n",
    "#plt.xlim(2407.5, 2410.0) #SECOND TRANSIT"
   ]
  },
  {
   "cell_type": "code",
   "execution_count": null,
   "id": "4845b671",
   "metadata": {},
   "outputs": [],
   "source": [
    "#CREATING DATA ARRAYS\n",
    "\n",
    "time = lc.time.jd\n",
    "flux = lc.flux.value\n",
    "flux_err = lc.flux_err.value"
   ]
  },
  {
   "cell_type": "code",
   "execution_count": null,
   "id": "77535928",
   "metadata": {},
   "outputs": [],
   "source": [
    "#PLOTTING TRANSIT POSITIONS ON NORMALISED + FALTTENED DATA\n",
    "\n",
    "fig, ax = plt.subplots()\n",
    "\n",
    "ax.plot(time, flux, 'ko')\n",
    "#ax.set_xlim(t2 - 0.5, t2 + 0.5)\n",
    "ax.axvline(x=t1, color=\"red\")\n",
    "ax.axvline(x=t2, color=\"blue\")"
   ]
  },
  {
   "cell_type": "code",
   "execution_count": null,
   "id": "cecc4682",
   "metadata": {},
   "outputs": [],
   "source": [
    "#SETTING TRANSIT PARAMETERS + REPLOTTING\n",
    "\n",
    "# Parameters that you need to set\n",
    "\n",
    "t_zero_1 = t1\n",
    "t_zero_2 = t2\n",
    "Pmax = np.abs(t2 - t1)\n",
    "\n",
    "width = (/24) #width from TOI catalogue (hours -> days)\n",
    "depth =  * 1e-6 #depth from TOI catalogue with normalised units\n",
    "\n",
    "tic_id = \n",
    "ra_dec_str = ''\n",
    "\n",
    "# Now plot\n",
    "%matplotlib inline\n",
    "plt.figure()\n",
    "plt.scatter(time,flux, c='k', s=1)\n",
    "plt.show()"
   ]
  },
  {
   "cell_type": "code",
   "execution_count": null,
   "id": "e8297ab5",
   "metadata": {
    "scrolled": false
   },
   "outputs": [],
   "source": [
    "%matplotlib inline\n",
    "\n",
    "Pmin = 15 # This value needs to be set by you, and is the minimum period possible set by the maximum continuos data span.\n",
    "          # Usually, this is 17 days.    \n",
    "Nmax = int(np.floor(Pmax/Pmin))\n",
    "print('Number of aliases : {:}'.format(Nmax))\n",
    "\n",
    "# This is your alias mask\n",
    "# Set indexes to False if you do not want to include the alias\n",
    "# It is the P number -1\n",
    "# Here, I do not like aliases P42,43,44,45,46\n",
    "alias_mask = np.ones(Nmax, dtype=bool)\n",
    "\n",
    "# alias_mask[41] = False\n",
    "#alias_mask[27:] = False\n",
    "\n",
    "\n",
    "\n",
    "fig, ax = plt.subplots(Nmax, 1, figsize=(3,2*Nmax))\n",
    "for i in range(1, Nmax+1):\n",
    "    period = Pmax/i\n",
    "    pwidth = width/period\n",
    "    phase = (((time - t_zero_1)/period)+0.5)%1 - 0.5\n",
    "    mask = (phase > (-pwidth)) & (phase < (pwidth))\n",
    "    \n",
    "    ax[i-1].errorbar(phase[mask], flux[mask], yerr=flux_err[mask], fmt='k.', markersize=1)\n",
    "    ax[i-1].set(xlabel='Phase', ylabel='Flux', title='Alias P{:}\\nPeriod = {:.4f}'.format(i, period), xlim=(-pwidth,pwidth))\n",
    "    if not alias_mask[i-1] : ax[i-1].set_facecolor('xkcd:salmon')\n",
    "plt.tight_layout()\n",
    "plt.show()"
   ]
  },
  {
   "cell_type": "code",
   "execution_count": null,
   "id": "8b31f4f7",
   "metadata": {},
   "outputs": [],
   "source": [
    "aliases = np.arange(1, Nmax+1)[alias_mask]\n",
    "periods = Pmax/aliases\n",
    "\n",
    "f = open('TIC{:}_aliases.txt'.format(tic_id), 'w+')\n",
    "f.write(ra_dec_str + '\\n')\n",
    "f.write('PALIAS,EPOCH,EPOCH_ERR_HIGH,EPOCH_ERR_LOW,PERIOD,PERIOD_ERR_HIGH,PERIOD_ERR,DURATION')\n",
    "\n",
    "for i in range(len(periods)):\n",
    "    line = '\\n{:},{:},{:},{:},{:},{:},{:},{:}'.format(aliases[i], t_zero_1 + 2457000, 0.0001,0.0001, periods[i],0.0001,0.0001, width)\n",
    "    f.write(line)\n",
    "f.close()"
   ]
  },
  {
   "cell_type": "code",
   "execution_count": null,
   "id": "35a3d3e3",
   "metadata": {},
   "outputs": [],
   "source": []
  }
 ],
 "metadata": {
  "kernelspec": {
   "display_name": "Python 3 (ipykernel)",
   "language": "python",
   "name": "python3"
  },
  "language_info": {
   "codemirror_mode": {
    "name": "ipython",
    "version": 3
   },
   "file_extension": ".py",
   "mimetype": "text/x-python",
   "name": "python",
   "nbconvert_exporter": "python",
   "pygments_lexer": "ipython3",
   "version": "3.9.12"
  }
 },
 "nbformat": 4,
 "nbformat_minor": 5
}
